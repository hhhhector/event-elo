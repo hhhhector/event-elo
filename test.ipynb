{
 "cells": [
  {
   "cell_type": "code",
   "execution_count": null,
   "id": "961f4f0b",
   "metadata": {},
   "outputs": [],
   "source": [
    "import pandas as pd\n",
    "\n",
    "DATE_COLUMN = 'date'\n",
    "DATA_URL = ('https://s3-us-west-2.amazonaws.com/'\n",
    "         'streamlit-demo-data/uber-raw-data-sep14.csv.gz')\n",
    "\n",
    "def load_data():\n",
    "    data = pd.read_json(\"data/event_history.json\")\n",
    "    data[DATE_COLUMN] = pd.to_datetime(data[DATE_COLUMN])\n",
    "    return data\n",
    "\n",
    "data = load_data()"
   ]
  },
  {
   "cell_type": "code",
   "execution_count": 11,
   "id": "1411093c",
   "metadata": {},
   "outputs": [],
   "source": [
    "data.set_index('event', inplace=True)"
   ]
  },
  {
   "cell_type": "code",
   "execution_count": 12,
   "id": "2f3d14f7",
   "metadata": {},
   "outputs": [
    {
     "data": {
      "application/vnd.microsoft.datawrangler.viewer.v0+json": {
       "columns": [
        {
         "name": "event",
         "rawType": "object",
         "type": "string"
        },
        {
         "name": "date",
         "rawType": "datetime64[ns]",
         "type": "datetime"
        },
        {
         "name": "participant_count",
         "rawType": "int64",
         "type": "integer"
        },
        {
         "name": "participants",
         "rawType": "object",
         "type": "unknown"
        }
       ],
       "ref": "1c308c4c-ae9d-444d-9533-91c5e8979287",
       "rows": [
        [
         "MCC1",
         "2019-11-17 00:00:00",
         "40",
         "['Quig', 'Krtzy', 'Michaelmcchill', 'PeteZahHutt', 'Vikkstar123', 'ShubbleYT', 'JCtheCaster', 'FlorianFunke', 'Ryguyrocky', 'HBomb94', 'King_Burren', 'KaraCorvus', 'Smajor1995', 'Rafessor', 'Ph1LzA', 'SolidarityGaming', 'CaptainSparklez', 'Smallishbeans', 'InTheLittleWood', 'The_Eret', 'Wolv21', 'James_Prime', 'BBPaws', 'WilburSoot', 'iJevin', 'CaptainPuffy', 'TankMatt', 'Dethridge', 'yammy_xox', 'LDShadowLady', 'NettyPlays', 'JackSucksAtMC', 'KryticZeuZ', 'JOEYGRACEFFA', 'iHasCupquake', 'MysterySalesman', 'GamerBurry', 'Flabaliki', 'Drgluon', 'Vixella']"
        ],
        [
         "MCC2",
         "2020-02-09 00:00:00",
         "40",
         "['Quig', 'TommyInnit', 'Technoblade', 'PeteZahHutt', 'Vikkstar123', 'Ph1LzA', 'HBomb94', 'Ryguyrocky', 'Krtzy', 'Mefs', 'Smajor1995', 'King_Burren', 'WilburSoot', 'CaptainPuffy', 'FlorianFunke', 'Seapeekay', 'CaptainSparklez', 'Rafessor', 'MiniMuka', 'Smallishbeans', 'Michaelmcchill', 'KaraCorvus', 'The_Eret', 'Krinios', 'LDShadowLady', 'ShubbleYT', 'InTheLittleWood', 'SolidarityGaming', 'Jestan', 'GamerBurry', 'Magistrex', 'katherineeliz', 'KryticZeuZ', 'BBPaws', 'Drgluon', 'Flabaliki', 'sylvee_', 'ToxxxicSupport', 'Vixella', 'JOEYGRACEFFA']"
        ],
        [
         "MCC3",
         "2020-03-14 00:00:00",
         "40",
         "['PeteZahHutt', 'Vikkstar123', 'CaptainSparklez', 'Technoblade', 'SolidarityGaming', 'Smajor1995', 'Krinios', 'ShubbleYT', 'TommyInnit', 'Krtzy', 'HBomb94', 'Quig', 'Calvin', 'Bitzel', 'Seapeekay', 'GizzyGazza', 'Smallishbeans', 'WilburSoot', 'Ryguyrocky', 'KaraCorvus', 'King_Burren', 'Magistrex', 'The_Eret', 'CaptainPuffy', 'sylvee_', 'LDShadowLady', 'Michaelmcchill', 'JOEYGRACEFFA', 'KryticZeuZ', 'GamerBurry', 'Flabaliki', 'VoiceoverPeteAce', 'katherineeliz', 'Drgluon', 'OrionSound', 'ToxxxicSupport', 'Marielitai', 'Vixella', 'Plumbella', 'steph0sims']"
        ],
        [
         "MCC4",
         "2020-04-18 00:00:00",
         "40",
         "['Technoblade', 'PeteZahHutt', 'Ph1LzA', 'Krtzy', 'Calvin', 'Vikkstar123', 'TommyInnit', 'CaptainSparklez', 'Krinios', 'Quig', 'Seapeekay', 'InTheLittleWood', 'HBomb94', 'KaraCorvus', 'King_Burren', 'JeromeASF', 'WilburSoot', 'Michaelmcchill', 'SolidarityGaming', 'Graser10', 'Smajor1995', 'falsesymmetry', 'Renthedog', 'ShubbleYT', 'Flabaliki', 'katherineeliz', 'Yammyxox', 'Magistrex', 'OrionSound', 'KryticZeuZ', 'GizzyGazza', 'fWhip', 'MiniMuka', 'BBPaws', 'GamerBurry', 'JOEYGRACEFFA', 'jcharles', 'Drgluon', 'Vixella', 'plumbella']"
        ],
        [
         "MCC5",
         "2020-05-16 00:00:00",
         "40",
         "['Quig', 'PeteZahHutt', 'CaptainSparklez', 'Technoblade', 'Krinios', 'Vikkstar123', 'fWhip', 'Krtzy', 'SolidarityGaming', 'Smajor1995', 'InTheLittleWood', 'ShubbleYT', 'Seapeekay', 'King_Burren', 'Mefs', 'TommyInnit', 'iskall85', 'Ph1LzA', 'WilburSoot', 'KaraCorvus', 'HBomb94', 'falsesymmetry', 'The_Eret', 'CaptainPuffy', 'JeromeASF', 'Renthedog', 'cubfan135', 'Michaelmcchill', 'OrionSound', 'Magistrex', 'Flabaliki', 'sylvee_', 'KryticZeuZ', 'Drgluon', 'GamerBurry', 'laurenzside', 'Vixella', 'VoiceoverPeteAce', 'steph0sims', 'plumbella']"
        ],
        [
         "MCC6",
         "2020-06-13 00:00:00",
         "40",
         "['PeteZahHutt', 'Quig', 'Dream', 'Mefs', 'fruitberries', 'HBomb94', 'InTheLittleWood', 'Fundy', 'Technoblade', 'CaptainSparklez', 'Ph1LzA', 'GeorgeNotFound', 'Krinios', 'Smajor1995', 'Bitzel', 'Ryguyrocky', 'Michaelmcchill', 'TommyInnit', 'Seapeekay', 'SolidarityGaming', 'CaptainPuffy', 'King_Burren', 'WilburSoot', 'Grian', 'ShubbleYT', 'fWhip', 'KaraCorvus', 'PearlescentMoon', 'cubfan135', 'falsesymmetry', 'katherineeliz', 'The_Eret', 'Smallishbeans', 'Renthedog', 'MiniMuka', 'sylvee_', 'GamerBurry', 'OrionSound', 'LDShadowLady', 'steph0sims']"
        ],
        [
         "MCC7",
         "2020-07-18 00:00:00",
         "40",
         "['PeteZahHutt', 'HBomb94', 'Dream', 'Fundy', 'Quig', 'Krinios', 'Technoblade', 'Sapnap', 'Ph1LzA', 'CaptainPuffy', 'fWhip', 'Krtzy', 'Seapeekay', 'fruitberries', 'CaptainSparklez', 'JeromeASF', 'The_Eret', 'Smajor1995', 'ryguyrocky', 'WilburSoot', 'KaraCorvus', 'GeorgeNotFound', 'TommyInnit', 'Grian', 'Magistrex', 'InTheLittleWood', 'falsesymmetry', 'King_Burren', 'sylvee_', 'Michaelmcchill', 'PearlescentMoon', 'GizzyGazza', 'KryticZeuZ', 'ShubbleYT', 'Flabaliki', 'SolidarityGaming', 'Renthedog', 'Vixella', 'plumbella', 'Drgluon']"
        ],
        [
         "MCC8",
         "2020-08-15 00:00:00",
         "40",
         "['Quig', 'Dream', 'PeteZahHutt', 'Krtzy', 'HBomb94', 'Technoblade', 'Mefs', 'Ph1LzA', 'fWhip', 'Sapnap', 'CaptainSparklez', 'TapL', 'Smallishbeans', 'Krinios', 'King_Burren', 'WilburSoot', 'Seapeekay', 'GeorgeNotFound', 'TommyInnit', 'Michaelmcchill', 'CaptainPuffy', 'InTheLittleWood', 'Fundy', 'Calvin', 'SB737', 'Smajor1995', 'katherineeliz', 'SolidarityGaming', 'KaraCorvus', 'sylvee_', 'MiniMuka', 'The_Eret', 'PearlescentMoon', 'falsesymmetry', 'Renthedog', 'cubfan135', 'ShubbleYT', 'GamerBurry', 'RIPmika', 'JOEYGRACEFFA']"
        ],
        [
         "MCC9",
         "2020-09-12 00:00:00",
         "40",
         "['fruitberries', 'Technoblade', 'Sapnap', 'HBomb94', 'PeteZahHutt', 'Krtzy', 'Quig', 'TommyInnit', 'CaptainSparklez', 'Calvin', 'GeorgeNotFound', 'falsesymmetry', 'Dream', 'Tubbo_', 'Smajor1995', 'Mefs', 'Seapeekay', 'Renthedog', 'Fundy', 'TapL', 'WilburSoot', 'PearlescentMoon', 'ryguyrocky', 'SB737', 'KaraCorvus', 'Ph1LzA', 'SolidarityGaming', 'Spifeey', 'CaptainPuffy', 'Grian', 'ShubbleYT', 'JeromeASF', 'Smallishbeans', 'InTheLittleWood', 'sylvee_', 'F1NN5TER', 'The_Eret', 'GizzyGazza', 'GamerBurry', 'RIPmika']"
        ],
        [
         "MCC10",
         "2020-09-26 00:00:00",
         "40",
         "['Quig', 'Technoblade', 'Dream', 'PeteZahHutt', 'TapL', 'Krinios', 'Smajor1995', 'Smallishbeans', 'GeorgeNotFound', 'Ph1LzA', 'King_Burren', 'SolidarityGaming', 'cubfan135', 'Sapnap', 'falsesymmetry', 'ShubbleYT', 'CaptainSparklez', 'The_Eret', 'Michaelmcchill', 'CaptainPuffy', 'WilburSoot', 'LDShadowLady', 'KaraCorvus', 'Tubbo_', 'sylvee_', 'TommyInnit', 'Vapekit', 'ItsJustOriah', 'Nihachu', 'KryticZeuZ', 'Vixella', 'JamesTurner', 'Kontuz', 'Yeetdaisie', 'iicbunnyx', 'Drgluon', 'PEARLBYTEZ', 'Pokimane', 'Roguskii', 'Asnazum']"
        ],
        [
         "MCC11",
         "2020-10-24 00:00:00",
         "40",
         "['Dream', 'fruitberries', 'Technoblade', 'Quig', 'TommyInnit', 'TapL', 'Smajor1995', 'HBomb94', 'Fundy', 'Sapnap', 'PearlescentMoon', 'Seapeekay', 'falsesymmetry', 'WilburSoot', 'ShubbleYT', 'Krtzy', 'Ph1LzA', 'fWhip', 'Grian', 'GeorgeNotFound', 'MiniMuka', 'SolidarityGaming', 'Krinios', 'Tubbo_', 'DanTDM', 'CaptainSparklez', 'Smallishbeans', 'InTheLittleWood', 'Renthedog', 'Quackity', 'CaptainPuffy', 'KaraCorvus', 'F1NN5TER', 'KarlJacobs', 'King_Burren', 'sylvee_', 'katherineeliz', 'ConnorEatsPants', 'jcharles', 'Nihachu']"
        ],
        [
         "BWO1",
         "2020-11-01 00:00:00",
         "20",
         "['ManWithRaft', 'FireBreathMan', 'Solawr', 'EpicFH', 'MarcusDoesMC', 'Kirkonrctta', 'Standen05', 'SMK64', 'MCmorganplayz', 'MasterGarf', 'Dynamitedoughnut', 'Lihzahrd', 'ItsNitroTiger', 'TogiSirTogston', 'pinkpi', 'Pixelcraftian', 'Cosmelon', 'dragonbloon419', 'fruitlukes', 'FanboyEint']"
        ],
        [
         "MCC12",
         "2020-11-14 00:00:00",
         "40",
         "['fruitberries', 'Ph1LzA', 'Sapnap', 'Fundy', 'PeteZahHutt', 'TapL', 'Dream', 'Quig', 'CaptainSparklez', 'HBomb94', 'Seapeekay', 'GeorgeNotFound', 'Punz', 'SB737', 'Smajor1995', 'Tubbo_', 'Illumina', 'TommyInnit', 'WilburSoot', 'Smallishbeans', 'King_Burren', 'ryguyrocky', 'fWhip', 'SolidarityGaming', 'Grian', 'Wisp', 'PearlescentMoon', 'KaraCorvus', 'DanTDM', 'CaptainPuffy', 'ShubbleYT', 'GizzyGazza', 'cubfan135', 'Michaelmcchill', 'Spifeey', 'falsesymmetry', 'Renthedog', 'Quackity', 'laurenzside', 'Nihachu']"
        ],
        [
         "MCC13",
         "2020-12-12 00:00:00",
         "40",
         "['PeteZahHutt', 'fruitberries', 'Krtzy', 'Sapnap', 'Illumina', 'Ph1LzA', 'Dream', 'HBomb94', 'Tubbo_', 'Krinios', 'Punz', 'Fundy', 'Quig', 'Smajor1995', 'CaptainSparklez', 'FalseSymmetry', 'TommyInnit', 'Grian', 'GeorgeNotFound', 'DanTDM', 'Mefs', 'Smallishbeans', 'Seapeekay', 'Wisp', 'ShubbleYT', 'The_Eret', 'WilburSoot', 'OrionSound', 'KaraCorvus', 'F1NN5TER', 'sylvee_', 'KarlJacobs', 'katherineeliz', 'ludwigahgren', 'Quackity', 'LDShadowLady', 'KryticZeuZ', 'JamesTurner', 'Vixella', 'Drgluon']"
        ],
        [
         "BWO2",
         "2020-12-20 00:00:00",
         "20",
         "['ModdingArt', 'FireBreathMan', 'Standen05', 'ProBuilder05', 'ManWithRaft', 'DONG_FORTNITE', 'Dynamitedoughnut', 'EpicFH', 'meincody', 'oGarfield', 'MCmorganplayz', 'rheneye', 'Step_To_Hell', 'Mysticat_', 'TheTranscriptGuy', 'MCBIGMACPLAYZ', 'dogsgo123', 'FanboyEint', 'Cosmelon', 'pinkpi']"
        ],
        [
         "BWO3",
         "2021-02-06 00:00:00",
         "20",
         "['Chugabunga', 'Solawr', 'WitheredFlux', 'EpicFH', 'DONG_FORTNITE', 'SMK64', 'Pixelcraftian', 'Lihzahrd', 'MasterGarf', 'dragonbloon419', 'Mysticat_', 'ShadowDragoMC', 'Rekt_DJ', 'oGarfield', 'Jacyy', 'StuartA', 'rheneye', 'natcrackers', 'SomeSlothCheese', 'TonyBoring']"
        ],
        [
         "BWO4",
         "2021-03-27 00:00:00",
         "20",
         "['FireBreathMan', 'MarcusDoesMC', 'WitheredFlux', 'Mysticat_', 'Kirkonrctta', 'Wolfeei', 'ProBuilder05', 'Pixelcraftian', 'MCmorganplayz', 'Standen05', 'natcrackers', 'Step_To_Hell', 'ShadowDragoMC', 'violxiv', 'animagician', 'ItsNitroTiger', 'TogiSirTogston', 'MCBIGMACPLAYZ', 'Jacyy', 'meincody']"
        ],
        [
         "FW1",
         "2021-04-11 00:00:00",
         "12",
         "['gummywroms', 'FireBreathMan', 'mysticat_', 'dizzire', 'thebigman22', 'Zyphon_', 'CGQ_', 'Garrettron', 'Teeenbee', 'celestialrain', 'NotSouls', 'DaZapow']"
        ],
        [
         "BWO5",
         "2021-05-08 00:00:00",
         "20",
         "['Chugabunga', 'FireBreathMan', 'ItzIgglesPiggles', 'TheTranscriptGuy', 'ManWithRaft', 'MasterGarf', 'oGarfield', 'Pixelcraftian', 'Wolfeei', 'DONG_FORTNITE', 'Lihzahrd', 'Mogii', 'picapi_', 'Rekt_DJ', 'pinkpi', 'MCBIGMACPLAYZ', 'dogsgo123', 'TonyBoring', 'SomeSlothCheese', 'Bloozki']"
        ],
        [
         "MCC14",
         "2021-05-09 00:00:00",
         "40",
         "['PeteZahHutt', 'Punz', 'Sapnap', 'Quig', 'Krtzy', 'fruitberries', 'HBomb94', 'Smajor1995', 'TommyInnit', 'Tubbo_', 'Fundy', 'Wisp', 'Vikkstar123', 'SB737', 'Ph1LzA', 'InTheLittleWood', 'Seapeekay', 'TapL', 'Dream', 'SolidarityGaming', 'CaptainSparklez', 'GeorgeNotFound', 'OrionSound', 'Grian', 'DanTDM', 'The_Eret', 'ShubbleYT', 'cubfan135', 'CaptainPuffy', 'JackManifoldTV', 'katherineeliz', 'sylvee_', 'Nihachu', 'BadBoyHalo', 'WilburSoot', 'Skeppy', 'KaraCorvus', 'Renthedog', 'falsesymmetry', 'Quackity']"
        ],
        [
         "FW2",
         "2021-05-16 00:00:00",
         "16",
         "['CGQ_', 'Loefars', 'FireBreathMan', 'gummywroms', 'Teeenbee', 'Zyphon', 'IRONSTARR', 'Garrettron', 'mysticat_', 'Wolfeei', 'WatereddownWill', 'Apden', 'MisticSins', 'KendallWasKilled', 'NotSouls', 'EwItsHarper']"
        ],
        [
         "BWO6",
         "2021-06-26 00:00:00",
         "20",
         "['Kirkonrctta', 'EpicFH', 'ItzIgglesPiggles', 'ModdingArt', 'Solawr', 'SMK64', 'Lihzahrd', 'ShadowDragoMC', 'MasterGarf', 'ManWithRaft', 'Pixelcraftian', 'Rekt_DJ', 'FanboyEint', 'Step_To_Hell', 'ThatsJ', 'ItsNitroTiger', 'oGarfield', 'meincody', 'Cosmelon', 'SomeSlothCheese']"
        ],
        [
         "MCC15",
         "2021-07-24 00:00:00",
         "40",
         "['Sapnap', 'TapL', 'Illumina', 'Dream', 'Punz', 'Quig', 'Fundy', 'Seapeekay', 'Tubbo_', 'WilburSoot', 'Smallishbeans', 'TBNRfrags', 'CaptainSparklez', 'Ranboo', 'Antfrost', 'InTheLittleWood', 'TommyInnit', 'Krtzy', 'fruitberries', 'Smajor1995', 'Wisp', 'Ph1LzA', 'JackManifoldTV', 'fWhip', 'Quackity', '5uppps', 'Michaelmcchill', 'HBomb94', 'Krinios', 'Grian', 'sylvee_', 'Renthedog', 'falsesymmetry', 'PearlescentMoon', 'OrionSound', 'ShubbleYT', 'ConnorEatsPants', 'SolidarityGaming', 'Nihachu', 'KaraCorvus']"
        ],
        [
         "CH4",
         "2021-07-31 00:00:00",
         "16",
         "['EpicFH', 'Kirkonrctta', 'TheTranscriptGuy', 'A_Nubz', 'Arlnknight', 'SMK64', 'Theospelar', 'OhSoWow', 'MajinEri', 'Turtleman5252', 'TheBisky', 'k_tie', 'Edentical', 'Nitro2989', 'QueenSnitch', 'Eurydice123']"
        ],
        [
         "BWO7",
         "2021-08-07 00:00:00",
         "20",
         "['WitheredFlux', 'SMK64', 'FireBreathMan', 'Mysticat_', 'Standen05', 'Seapeekay', 'ItsNitroTiger', 'Mogii', 'Wolfeei', 'MarcusDoesMC', 'natcrackers', 'violxiv', 'Pixelcraftian', 'Bloozki', 'MCBIGMACPLAYZ', 'rheneye', 'Jacyy', 'pyrenix', 'CyberChamp', 'thebigman22']"
        ],
        [
         "FW3",
         "2021-08-15 00:00:00",
         "32",
         "['RemoteBirch5', 'CAAJBE', 'Frosst7', 'IAmLegendss', 'ubhi', 'Garrettron', 'CGQ_', 'Loefars', 'Heliodor', 'DONG_FORTNITE', '21Satire', 'Awre_', 'MarcusDoesMC', 'Darkstorm77', 'CJTSlime', 'Toph033', 'ItsNitroTiger', 'MasterGarf', 'Kaos21a', 'ActuallyNarwhal', 'oGarfield', 'MCmorganplayz', 'ParkPB', 'LucyHexes', 'MisticSins', 'Wylbert', 'that_virgo', 'Lantastic', 'ZhuRuho', 'flinchboy', 'EwItsHarper', 'KendallWasKilled']"
        ],
        [
         "MCC16",
         "2021-08-28 00:00:00",
         "40",
         "['Punz', 'Quig', 'fruitberries', 'Dream', 'Seapeekay', 'Smallishbeans', 'Fundy', 'Sapnap', 'Antfrost', 'Krtzy', 'Grian', 'PeteZahHutt', 'GeorgeNotFound', 'Smajor1995', 'TapL', 'BadBoyHalo', 'sylvee_', 'Tubbo_', 'CaptainSparklez', 'JackManifoldTV', 'HBomb94', 'TBNRfrags', 'F1NN5TER', 'Ranboo', 'Ponk', 'Ph1LzA', '5uppps', 'WilburSoot', 'ShubbleYT', 'Spifeey', 'CaptainPuffy', 'TommyInnit', 'OrionSound', 'PearlescentMoon', 'Nihachu', 'Magistrex', 'KryticZeuZ', 'Drgluon', 'JamesTurner', 'Vixella']"
        ],
        [
         "CH5",
         "2021-09-11 00:00:00",
         "16",
         "['Standen05', 'Migztery', 'AbbyArtemiss', 'Truewan', 'Dvrks', 'Arlnknight', 'Theospelar', 'AzureRazor', 'k_tie', 'Nitro2989', 'Turtleman5252', 'QueenSnitch', '_Luva', 'TheAchieveLegend', 'Rodmiat', 'Edentical']"
        ],
        [
         "BWO8",
         "2021-09-18 00:00:00",
         "20",
         "['FireBreathMan', 'DONG_FORTNITE', 'ModdingArt', 'Chugabunga', 'Lihzahrd', 'TheTranscriptGuy', 'oGarfield', 'Dynamitedoughnut', 'Wolfeei', 'ManWithRaft', 'ShadowDragoMC', 'Step_To_Hell', 'MarcusDoesMC', 'TogiSirTogston', 'FanboyEint', 'natcrackers', 'Kaizo', 'pyrenix', 'animagician', 'pinkpi']"
        ],
        [
         "MCC17",
         "2021-09-18 00:00:00",
         "40",
         "['PeteZahHutt', 'fruitberries', 'Quig', 'Sapnap', 'Illumina', 'Grian', 'SB737', 'Dream', 'Ranboo', 'Smajor1995', 'HBomb94', 'WilburSoot', 'GeorgeNotFound', 'Antfrost', 'SolidarityGaming', 'falsesymmetry', 'InTheLittleWood', 'TommyInnit', 'Tubbo_', 'ShubbleYT', 'fWhip', 'CaptainSparklez', 'Punz', 'GeminiTay', 'KryticZeuZ', 'cubfan135', 'KarlJacobs', 'Renthedog', 'Vixella', 'Ponk', '5uppps', 'KaraCorvus', 'The_Eret', 'Sneegsnag', 'vGumiho', 'Wisp', 'JackManifoldTV', 'Ph1LzA', 'King_Burren', 'Nihachu']"
        ],
        [
         "FW4",
         "2021-09-19 00:00:00",
         "32",
         "['gummywroms', 'CGQ_', 'Toph033', 'Garrettron', 'IRONSTARR', 'slimeshockey', 'Loefars', 'ItzIgglesPiggles', 'ActuallyNarwhal', 'EpicFH', 'Wylbert', 'NotSouls', 'ubhi', 'ParkPB', 'Frosst7', 'LucyHexes', 'Heliodor', 'ItsNitroTiger', 'ZhuRuho', 'Kaos21a', 'AceJake28', 'oGarfield', 'KendallWasKilled', 'MarcusDoesMC', 'Lantastic', 'ThunderGabeYT', 'MisticSins', 'crypt3dd', '21Satire', 'EwItsHarper', 'Noname4297', 'that_virgo']"
        ],
        [
         "MCCR",
         "2021-10-02 00:00:00",
         "40",
         "['YelloWool', 'Kierrrr', 'SpeedSilver', 'Its_Dev_', 'jojosolos', 'OwengeJuice', 'Stemister', 'Boosfer', 'xNestorio', 'Guggleino', 'Blushi', 'Golemell', 'bekyamon', 'yomikester238', 'roseriie', 'Laqqy', 'MaxTLL', 'SpelledNik', 'highkeyhateme', 'billzo_', 'riiceandbeanss', 'soupforeloise', 'KingOfArchers', 'buggy9000', 'MakoInari', 'Mejoraas', 'caitees', 'Nicacolas', 'DarkEyebrows', 'marbar_x', 'Yoshinom', 'aimsey', 'tomatobisque_', 'Raebie', 'mintsleaves', 'MrBeardstone', 'spoinkTV', 'BrunoDanUy', 'musicman1017', 'mizzrowe']"
        ],
        [
         "CH6",
         "2021-10-16 00:00:00",
         "16",
         "['Kirkonrctta', 'TheTranscriptGuy', 'Migztery', 'BoboRozo', 'OhSoWow', 'Theospelar', 'Standen05', 'MajinEri', 'AzureRazor', 'SMK64', 'Arlnknight', 'Graytsu', 'Dvrks', 'Plitsch', 'TheBisky', 'Eurydice123']"
        ],
        [
         "BWO9",
         "2021-10-23 00:00:00",
         "20",
         "['EpicFH', 'WitheredFlux', 'Mysticat_', 'MCmorganplayz', 'Standen05', 'DONG_FORTNITE', 'ItzIgglesPiggles', 'ThatsJ', 'SMK64', 'Pixelcraftian', 'Mogii', 'rheneye', 'Rekt_DJ', 'Jacyy', 'natcrackers', 'MCBIGMACPLAYZ', 'picapi_', 'CyberChamp', 'pyrenix', 'SomeSlothCheese']"
        ],
        [
         "MCC18",
         "2021-10-23 00:00:00",
         "40",
         "['Illumina', 'Sapnap', 'Dream', 'Punz', 'Fundy', 'Tubbo_', 'Smajor1995', 'GeorgeNotFound', 'Krtzy', 'Antfrost', 'CaptainSparklez', 'Sneegsnag', 'PeteZahHutt', 'Ranboo', 'Mefs', 'sylvee_', 'TapL', 'WilburSoot', 'TommyInnit', '5uppps', 'PearlescentMoon', 'CaptainPuffy', 'Seapeekay', 'SolidarityGaming', 'HBomb94', 'Wisp', 'Grian', 'GeeNelly', 'Smallishbeans', 'Ph1LzA', 'OrionSound', 'ShubbleYT', 'vGumiho', 'Quackity', 'awesamdude', 'GizzyGazza', 'KaraCorvus', 'GeminiTay', 'JackManifoldTV', 'Nihachu']"
        ],
        [
         "FW5",
         "2021-10-24 00:00:00",
         "32",
         "['Toph033', 'Kirkonrctta', 'Frosst7', 'AceJake28', 'ubhi', 'CGQ_', 'Kaos21a', '21Satire', 'ItsNitroTiger', 'EpicFH', 'IRONSTARR', 'Garrettron', 'Lantastic', 'SMK64', 'CxrtxR', 'MasterGarf', 'slimeshockey', 'EvanF', 'ZoomingZap', 'ThunderGabeYT', 'HugeGuyTim', 'doub_l', 'CJTSlime', 'Wylbert', 'Kaelan_', 'LucyHexes', 'ZhuRuho', 'KendallWasKilled', 'Awre_', 'RyanBurger', 'RemoteBirch5', 'crypt3dd']"
        ],
        [
         "MCCAS",
         "2021-11-13 00:00:00",
         "40",
         "['Dream', 'Sapnap', 'fruitberries', 'Quig', 'Illumina', 'Punz', 'GeorgeNotFound', 'Seapeekay', 'BadBoyHalo', 'HBomb94', 'SB737', 'jojosolos', 'Krtzy', 'Smajor1995', 'PeteZahHutt', 'Ph1LzA', 'TommyInnit', 'ShubbleYT', 'sylvee_', 'Smallishbeans', 'WilburSoot', 'Bitzel', 'F1NN5TER', 'Blushi', 'CaptainPuffy', 'Tubbo_', 'Grian', 'falsesymmetry', 'Krinios', 'Renthedog', 'ryguyrocky', 'cubfan135', 'MiniMuka', 'SolidarityGaming', 'King_Burren', 'Kreekcraft', 'Michaelmcchill', 'KaraCorvus', 'fWhip', 'The_Eret']"
        ],
        [
         "FW6",
         "2021-11-14 00:00:00",
         "32",
         "['EpicFH', 'Toph033', 'Loefars', 'CJTSlime', 'IRONSTARR', 'slimeshockey', 'CGQ_', 'gummywroms', 'MasterGarf', 'Nikikup', 'Frosst7', 'C10WD', 'ParkPB', 'ZoomingZap', 'Awre_', 'Heliodor', 'ItsNitroTiger', 'oGarfield', 'ghostblurr', '3FromTheBack', 'MisticSins', 'Lantastic', 'Wylbert', 'ZhuRuho', 'PlanetLord', 'Steinbulf', 'JoeyCapollo', 'Cahriid', 'LucarioKnight', 'lopsidedhead', 'Noname4297', 'snsteph']"
        ],
        [
         "MCC19",
         "2021-12-11 00:00:00",
         "40",
         "['fruitberries', 'Sapnap', 'Punz', 'Ranboo', 'TommyInnit', 'Ph1LzA', 'Dream', 'GeorgeNotFound', 'PeteZahHutt', 'Krinios', 'Tubbo_', 'awesamdude', 'Quig', 'Sneegsnag', 'vGumiho', 'Seapeekay', 'Grian', 'ryguyrocky', 'Wisp', 'TapL', 'SolidarityGaming', 'Slimecicle', 'The_Eret', 'Smajor1995', 'JackManifoldTV', 'WilburSoot', 'Smallishbeans', 'ShubbleYT', 'InTheLittleWood', 'GeminiTay', 'CaptainSparklez', 'KaraCorvus', 'Michaelmcchill', 'Nihachu', 'Renthedog', 'falsesymmetry', 'Vixella', 'KryticZeuZ', 'Drgluon', 'JamesTurner']"
        ],
        [
         "CH7",
         "2021-12-11 00:00:00",
         "16",
         "['Standen05', 'Kirkonrctta', 'Theospelar', 'AbbyArtemiss', 'A_Nubz', 'MajinEri', 'k_tie', 'Nitro2989', 'fndp', 'BoboRozo', 'Turtleman5252', 'Plitsch', 'QueenSnitch', 'Edentical', 'OhSoWow', 'TheAchieveLegend']"
        ],
        [
         "FW7",
         "2021-12-12 00:00:00",
         "32",
         "['Toph033', 'Kaos21a', 'oGarfield', 'Awre_', 'AceJake28', 'SMK64', 'C10WD', 'Garrettron', 'CGQ_', 'IRONSTARR', 'Kaelan_', 'ZhuRuho', 'ItsNitroTiger', 'ZoomingZap', 'Loefars', 'ParkPB', 'CxrtxR', 'ubhi', 'steinbulf', 'Heliodor', 'slimeshockey', 'Lantastic', 'LucyHexes', 'LucarioKnight', 'Kirkonrctta', 'ThatsJ', 'Pixelcraftian', 'lopsidedhead', 'that_virgo', 'Mystik_Owl', 'finnwars', 'Noname4297']"
        ],
        [
         "BWO10",
         "2021-12-18 00:00:00",
         "40",
         "['Kirkonrctta', 'Standen05', 'Solawr', 'oGarfield', 'FireBreathMan', 'WitheredFlux', 'DONG_FORTNITE', 'Wolfeei', 'ModdingArt', 'ItzIgglesPiggles', 'Chugabunga', 'Dynamitedoughnut', 'ThatsJ', 'MasterGarf', 'Sncm', 'Step_To_Hell', 'ItsNitroTiger', 'Mysticat_', 'ShadowDragoMC', 'MarcusDoesMC', 'MCmorganplayz', 'SMK64', 'ManWithRaft', 'FanboyEint', 'rheneye', 'violxiv', 'natcrackers', 'MCBIGMACPLAYZ', 'Rekt_DJ', 'Pixelcraftian', 'Jacyy', 'TheTranscriptGuy', 'thebigman22', 'TogiSirTogston', 'Mogii', 'SomeSlothCheese', 'CyberChamp', 'pinkpi', 'picapi_', 'TonyBoring']"
        ],
        [
         "CH8",
         "2022-02-12 00:00:00",
         "16",
         "['TheTranscriptGuy', 'Migztery', '_Luva', 'QueenSnitch', 'SMK64', 'Nitro2989', 'Thexclusivegamer', 'AzureRazor', 'Doorium', 'k_tie', 'A_Nubz', 'fndpALT', 'TheAchieveLegend', 'echolyzing', 'Edentical', 'TheBisky']"
        ],
        [
         "PB1",
         "2022-03-06 00:00:00",
         "32",
         "['Toph033', 'Awre_', 'ubhi', 'slimeshockey', 'CGQ_', 'Kaos21a', 'EpicFH', 'IRONSTARR', 'oGarfield', 'C10WD', 'Heliodor', 'SMK64', 'LucyHexes', 'gummywroms', 'ActuallyNarwhal', 'fayewars', 'DONG_FORTNITE', 'CxrtxR', 'Mystik_Owl', 'NotSouls', 'AvaJC', 'Wylbert', 'Pixelcraftian', 'RyanBurger', 'Wolfeei', 'celestialrain', 'Loopiie', 'EwItsHarper', 'Apden', 'crypt3dd', 'KendallWasKilled', 'Noname4297']"
        ],
        [
         "CH9",
         "2022-03-19 00:00:00",
         "16",
         "['Standen05', 'Kirkonrctta', 'Theospelar', 'MajinEri', 'OhSoWow', 'SMK64', 'BoboRozo', 'Doorium', 'Arlnknight', 'oGarfield', 'Turtleman5252', 'Dvrks', 'Thexclusivegamer', 'Airborne343', 'TheSneakyHider', 'Eurydice123']"
        ],
        [
         "MCC20",
         "2022-03-26 00:00:00",
         "40",
         "['Illumina', 'Quig', 'Punz', 'Antfrost', 'HBomb94', 'fruitberries', 'SB737', '5uppps', 'CaptainSparklez', 'Ph1LzA', 'Ranboo', 'PeteZahHutt', 'TapL', 'cubfan135', 'Purpled', 'Seapeekay', 'InTheLittleWood', 'GeminiTay', 'Krtzy', 'falsesymmetry', 'Smajor1995', 'ryguyrocky', 'Tubbo_', 'awesamdude', 'TommyInnit', 'TBNRfrags', 'CaptainPuffy', 'Ponk', 'JackManifoldTV', 'OrionSound', 'Sneegsnag', 'WilburSoot', 'GoodTimeWithScar', 'ElainaExe', 'ConnorEatsPants', 'ShubbleYT', 'KaraCorvus', 'The_Eret', 'vGumiho', 'Nihachu']"
        ],
        [
         "PB2",
         "2022-04-10 00:00:00",
         "32",
         "['Toph033', 'CAAJBE', 'C10WD', 'gummywroms', 'oGarfield', 'Loefars', 'EpicFH', 'MCmorganplayz', 'Awre_', 'SMK64', 'Wolfeei', 'Wylbert', 'ItzIgglesPiggles', 'FireBreathMan', 'ThatsJ', 'Nikikup', 'steinbulf', 'Mystik_Owl', 'ZoomingZap', 'Pixelcraftian', 'Lantastic', 'HugeGuyTim', 'MasterGarf', 'Lihzahrd', 'NotSouls', 'Rekt_DJ', 'ItsNitroTiger', 'MisticSins', 'snsteph', 'Noname4297', 'TedsAttic', 'LockieNess']"
        ],
        [
         "MCC21",
         "2022-04-30 00:00:00",
         "40",
         "['Sapnap', 'fruitberries', 'Purpled', 'Illumina', 'Seapeekay', '5uppps', 'Smallishbeans', 'jojosolos', 'Punz', 'TommyInnit', 'Tubbo_', 'PeteZahHutt', 'JackManifoldTV', 'Ph1LzA', 'KryticZeuZ', 'Antfrost', 'Dream', 'fWhip', 'Krtzy', 'GeorgeNotFound', 'sylvee_', 'Smajor1995', 'CaptainSparklez', 'Ranboo', 'Grian', 'Renthedog', 'Sneegsnag', 'Snifferish', 'WilburSoot', 'Ponk', 'ShubbleYT', 'vGumiho', 'awesamdude', 'Krinios', 'KaraCorvus', 'BadBoyHalo', 'GeeNelly', 'ElainaExe', 'GoodTimeWithScar', 'SolidarityGaming']"
        ],
        [
         "CH10",
         "2022-04-30 00:00:00",
         "16",
         "['Kaiferno', 'Theospelar', 'Graytsu', 'fndp', 'Edentical', '_Luva', 'CxrtxR', 'A_Nubz', 'k_tie', 'AzureRazor', 'Migztery', 'TheBisky', 'Arlnknight', 'Nitro2989', 'TheAchieveLegend', 'Plitsch']"
        ],
        [
         "PB3",
         "2022-05-15 00:00:00",
         "32",
         "['Kelawesome', 'FireBreathMan', 'Kaelan_', 'CxrtxR', 'gummywroms', 'DONG_FORTNITE', 'EpicFH', 'MasterGarf', 'ThatsJ', 'ItsNitroTiger', 'Kaos21a', 'ActuallyNarwhal', 'Heliodor', 'AvaJC', 'TSchone12', 'steinbulf', 'MisticSins', 'ZoomingZap', 'baseballdrew', 'Wolfeei', 'IRONSTARR', 'ZhuRuho', 'lopsidedhead', 'snsteph', 'that_virgo', 'Reddoons', 'Lihzahrd', 'MysteryTwins15', 'Loopizzle', 'crypt3dd', 'NotSouls', 'OperaticWind215']"
        ]
       ],
       "shape": {
        "columns": 3,
        "rows": 248
       }
      },
      "text/html": [
       "<div>\n",
       "<style scoped>\n",
       "    .dataframe tbody tr th:only-of-type {\n",
       "        vertical-align: middle;\n",
       "    }\n",
       "\n",
       "    .dataframe tbody tr th {\n",
       "        vertical-align: top;\n",
       "    }\n",
       "\n",
       "    .dataframe thead th {\n",
       "        text-align: right;\n",
       "    }\n",
       "</style>\n",
       "<table border=\"1\" class=\"dataframe\">\n",
       "  <thead>\n",
       "    <tr style=\"text-align: right;\">\n",
       "      <th></th>\n",
       "      <th>date</th>\n",
       "      <th>participant_count</th>\n",
       "      <th>participants</th>\n",
       "    </tr>\n",
       "    <tr>\n",
       "      <th>event</th>\n",
       "      <th></th>\n",
       "      <th></th>\n",
       "      <th></th>\n",
       "    </tr>\n",
       "  </thead>\n",
       "  <tbody>\n",
       "    <tr>\n",
       "      <th>MCC1</th>\n",
       "      <td>2019-11-17</td>\n",
       "      <td>40</td>\n",
       "      <td>[Quig, Krtzy, Michaelmcchill, PeteZahHutt, Vik...</td>\n",
       "    </tr>\n",
       "    <tr>\n",
       "      <th>MCC2</th>\n",
       "      <td>2020-02-09</td>\n",
       "      <td>40</td>\n",
       "      <td>[Quig, TommyInnit, Technoblade, PeteZahHutt, V...</td>\n",
       "    </tr>\n",
       "    <tr>\n",
       "      <th>MCC3</th>\n",
       "      <td>2020-03-14</td>\n",
       "      <td>40</td>\n",
       "      <td>[PeteZahHutt, Vikkstar123, CaptainSparklez, Te...</td>\n",
       "    </tr>\n",
       "    <tr>\n",
       "      <th>MCC4</th>\n",
       "      <td>2020-04-18</td>\n",
       "      <td>40</td>\n",
       "      <td>[Technoblade, PeteZahHutt, Ph1LzA, Krtzy, Calv...</td>\n",
       "    </tr>\n",
       "    <tr>\n",
       "      <th>MCC5</th>\n",
       "      <td>2020-05-16</td>\n",
       "      <td>40</td>\n",
       "      <td>[Quig, PeteZahHutt, CaptainSparklez, Technobla...</td>\n",
       "    </tr>\n",
       "    <tr>\n",
       "      <th>...</th>\n",
       "      <td>...</td>\n",
       "      <td>...</td>\n",
       "      <td>...</td>\n",
       "    </tr>\n",
       "    <tr>\n",
       "      <th>CT8</th>\n",
       "      <td>2025-08-10</td>\n",
       "      <td>31</td>\n",
       "      <td>[Kelawesome, Infume, ubhi, Toph033, Feinberg, ...</td>\n",
       "    </tr>\n",
       "    <tr>\n",
       "      <th>SD1</th>\n",
       "      <td>2025-08-23</td>\n",
       "      <td>32</td>\n",
       "      <td>[MxAero, CxrtxR, WeChokeOnMilk, olivehoodies, ...</td>\n",
       "    </tr>\n",
       "    <tr>\n",
       "      <th>BW17</th>\n",
       "      <td>2025-08-30</td>\n",
       "      <td>40</td>\n",
       "      <td>[Antfrost, MinuteTech, Sneegsnag, Reddoons, Wo...</td>\n",
       "    </tr>\n",
       "    <tr>\n",
       "      <th>BWO36</th>\n",
       "      <td>2025-09-06</td>\n",
       "      <td>40</td>\n",
       "      <td>[FireBreathMan, ubhi, Kaelan_, Solawr, Sandwic...</td>\n",
       "    </tr>\n",
       "    <tr>\n",
       "      <th>MCCBG</th>\n",
       "      <td>2025-09-13</td>\n",
       "      <td>40</td>\n",
       "      <td>[Purpled, Feinberg, fruitberries, FireBreathMa...</td>\n",
       "    </tr>\n",
       "  </tbody>\n",
       "</table>\n",
       "<p>248 rows × 3 columns</p>\n",
       "</div>"
      ],
      "text/plain": [
       "            date  participant_count  \\\n",
       "event                                 \n",
       "MCC1  2019-11-17                 40   \n",
       "MCC2  2020-02-09                 40   \n",
       "MCC3  2020-03-14                 40   \n",
       "MCC4  2020-04-18                 40   \n",
       "MCC5  2020-05-16                 40   \n",
       "...          ...                ...   \n",
       "CT8   2025-08-10                 31   \n",
       "SD1   2025-08-23                 32   \n",
       "BW17  2025-08-30                 40   \n",
       "BWO36 2025-09-06                 40   \n",
       "MCCBG 2025-09-13                 40   \n",
       "\n",
       "                                            participants  \n",
       "event                                                     \n",
       "MCC1   [Quig, Krtzy, Michaelmcchill, PeteZahHutt, Vik...  \n",
       "MCC2   [Quig, TommyInnit, Technoblade, PeteZahHutt, V...  \n",
       "MCC3   [PeteZahHutt, Vikkstar123, CaptainSparklez, Te...  \n",
       "MCC4   [Technoblade, PeteZahHutt, Ph1LzA, Krtzy, Calv...  \n",
       "MCC5   [Quig, PeteZahHutt, CaptainSparklez, Technobla...  \n",
       "...                                                  ...  \n",
       "CT8    [Kelawesome, Infume, ubhi, Toph033, Feinberg, ...  \n",
       "SD1    [MxAero, CxrtxR, WeChokeOnMilk, olivehoodies, ...  \n",
       "BW17   [Antfrost, MinuteTech, Sneegsnag, Reddoons, Wo...  \n",
       "BWO36  [FireBreathMan, ubhi, Kaelan_, Solawr, Sandwic...  \n",
       "MCCBG  [Purpled, Feinberg, fruitberries, FireBreathMa...  \n",
       "\n",
       "[248 rows x 3 columns]"
      ]
     },
     "execution_count": 12,
     "metadata": {},
     "output_type": "execute_result"
    }
   ],
   "source": [
    "data"
   ]
  }
 ],
 "metadata": {
  "kernelspec": {
   "display_name": "event-elo",
   "language": "python",
   "name": "python3"
  },
  "language_info": {
   "codemirror_mode": {
    "name": "ipython",
    "version": 3
   },
   "file_extension": ".py",
   "mimetype": "text/x-python",
   "name": "python",
   "nbconvert_exporter": "python",
   "pygments_lexer": "ipython3",
   "version": "3.12.11"
  }
 },
 "nbformat": 4,
 "nbformat_minor": 5
}
